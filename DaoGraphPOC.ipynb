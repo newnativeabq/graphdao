{
 "cells": [
  {
   "cell_type": "markdown",
   "id": "fa178b78",
   "metadata": {},
   "source": [
    "# Graph Scoped DAO\n",
    "A proof of concept graph network that provides implicit scope through the structure of its votable interactions.  All actions of the DAO are modelled as actor/resrouce actions.  The set of actions is used to build and visualize the DAO.  Continuous staking on actions causes stateful updates of resources controlled by the DAO via the actor/resource actions.  \n",
    "\n",
    "**Benefits:**\n",
    "- Formal analysis of actors, resources possible.\n",
    "- Participant values can be added in multiple places and modelled - choosing what edges exist as well as how the actions are activated.\n",
    "- The graph has explicit scope and that scope can be visualized.  Artist rendering of how the system is controlled can be made 'to scale'.\n",
    "- Scalable and dockable.  Very complex governance can be modelled and added in pieces with open verification of interacting elements and modelling of the system available at every change.  A huge improvement over subjective law.\n",
    "\n",
    "**Cons:**\n",
    "- Everything is explicit. Implicit governance can only be done through vague actions.\n",
    "- Fluidity and timing of state updates is another layer of complexity.  May need a structure to control state updates. \n",
    "- Disaster recovery must be modelled in.\n",
    "- Even a simple graph or simple vote activation function may lead to complex, unwanted, behaviors unseen before."
   ]
  },
  {
   "cell_type": "markdown",
   "id": "7250fda6",
   "metadata": {},
   "source": [
    "## The Action\n",
    "\n",
    "A class of actor, resource(s), and functions with side effects on those resource(s).  A resource can be an actor itself for more complicated graphs."
   ]
  },
  {
   "cell_type": "code",
   "execution_count": 1,
   "id": "769a04fe",
   "metadata": {},
   "outputs": [],
   "source": [
    "from pydantic import BaseModel\n",
    "from typing import List, Dict, Any\n",
    "\n",
    "\n",
    "class Resource(BaseModel):\n",
    "    identifier: str\n",
    "\n",
    "    def __repr__(self):\n",
    "        return self.identifier\n",
    "    \n",
    "        \n",
    "class Actor(Resource):\n",
    "    identifier: str\n",
    "        \n",
    "    def __repr__(self):\n",
    "        return self.identifier\n",
    "\n",
    "\n",
    "class Contract(BaseModel):\n",
    "    identifier: str\n",
    "    kwargs: Dict[str, Resource]\n",
    "    fn: Any\n",
    "    \n",
    "    def execute(self):\n",
    "        try:\n",
    "            self.fn(self.kwargs)\n",
    "        except Exception as e:\n",
    "            print('Error: could not execute contract')\n",
    "            raise e\n",
    "    \n",
    "\n",
    "class Action(BaseModel):\n",
    "    identifier: str\n",
    "    actor: Actor\n",
    "    resources: List[Resource]\n",
    "    contract: Contract\n",
    "        \n",
    "    @property\n",
    "    def nodes(self) -> list:\n",
    "        n = []\n",
    "        n.extend([r.identifier for r in self.resources])\n",
    "        n.extend([self.actor.identifier])\n",
    "        return n\n",
    "    \n",
    "    @property\n",
    "    def edges(self) -> list:\n",
    "        e = []\n",
    "        e.extend([(self.actor.identifier, r.identifier, {'contract':self.contract}) for r in self.resources])\n",
    "        return e"
   ]
  },
  {
   "cell_type": "code",
   "execution_count": 2,
   "id": "f9ee7c4d",
   "metadata": {},
   "outputs": [
    {
     "name": "stdout",
     "output_type": "stream",
     "text": [
      "JD owns 00x1\n"
     ]
    }
   ],
   "source": [
    "# A resource can be scarce or restricted object (this can be a wallet, login service, payment authorization token api, whatever)\n",
    "wallet = Resource(identifier='00x1')\n",
    "\n",
    "# An actor should be required by the contract function, otherwise the edge is meaningless.\n",
    "me = Actor(identifier='JD')\n",
    "\n",
    "# A contract is any function of named arguments.  \n",
    "#  This can certainly be a smart contract, but side effects don't have to be on chain.\n",
    "contract = Contract(\n",
    "    identifier = 'simple_print',\n",
    "    kwargs = {'owner': me, 'wallet': wallet}, \n",
    "    fn = lambda kw: print(f\"{kw['owner'].identifier} owns {kw['wallet'].identifier}\"\n",
    "))\n",
    "\n",
    "# The Action is an edge of the network.  We define actions and build the network from concrete actions\n",
    "#  opposed \n",
    "print_info = Action(\n",
    "    identifier='p1',\n",
    "    actor=me, \n",
    "    resources=[wallet], \n",
    "    contract=contract)\n",
    "\n",
    "print_info.contract.execute()  # In practice, executed by stake net"
   ]
  },
  {
   "cell_type": "markdown",
   "id": "2b6692a1",
   "metadata": {},
   "source": [
    "# The Graph\n",
    "By registering actions, a graph can be built."
   ]
  },
  {
   "cell_type": "code",
   "execution_count": 3,
   "id": "52c9b5e4",
   "metadata": {},
   "outputs": [],
   "source": [
    "import networkx as nx\n",
    "\n",
    "class DGraph():\n",
    "    def __init__(self):\n",
    "        self.__g = nx.Graph()\n",
    "        \n",
    "    def register_action(self, action: Action):\n",
    "        self.__g.add_nodes_from(action.nodes)\n",
    "        self.__g.add_edges_from(action.edges)\n",
    "        print(f\"added {action.nodes}, {action.edges}\")\n",
    "        \n",
    "    @property\n",
    "    def num_nodes(self):\n",
    "        return self.__g.number_of_nodes()\n",
    "    \n",
    "    @property\n",
    "    def num_edges(self):\n",
    "        return self.__g.number_of_edges()\n",
    "    \n",
    "    @property\n",
    "    def nodes(self):\n",
    "        return self.__g.nodes\n",
    "    \n",
    "    @property\n",
    "    def edges(self):\n",
    "        return self.__g.edges\n",
    "    \n",
    "    def get_edge(self, a, b):\n",
    "        return self.__g[a][b]\n",
    "    \n",
    "    def draw(self, *args, **kwargs):\n",
    "        nx.draw(self.__g, *args, **kwargs)"
   ]
  },
  {
   "cell_type": "code",
   "execution_count": 4,
   "id": "195bcdb9",
   "metadata": {},
   "outputs": [
    {
     "name": "stdout",
     "output_type": "stream",
     "text": [
      "added ['00x1', 'JD'], [('JD', '00x1', {'contract': Contract(identifier='simple_print', kwargs={'owner': JD, 'wallet': 00x1}, fn=<function <lambda> at 0x7fa112d27430>)})]\n"
     ]
    }
   ],
   "source": [
    "# Register actions to build the graph\n",
    "dg = DGraph()\n",
    "dg.register_action(print_info)"
   ]
  },
  {
   "cell_type": "code",
   "execution_count": 5,
   "id": "8320beac",
   "metadata": {},
   "outputs": [
    {
     "data": {
      "text/plain": [
       "(2, 1)"
      ]
     },
     "execution_count": 5,
     "metadata": {},
     "output_type": "execute_result"
    }
   ],
   "source": [
    "dg.num_nodes, dg.num_edges"
   ]
  },
  {
   "cell_type": "code",
   "execution_count": 6,
   "id": "d9a26cee",
   "metadata": {},
   "outputs": [
    {
     "data": {
      "text/plain": [
       "NodeView(('00x1', 'JD'))"
      ]
     },
     "execution_count": 6,
     "metadata": {},
     "output_type": "execute_result"
    }
   ],
   "source": [
    "dg.nodes"
   ]
  },
  {
   "cell_type": "code",
   "execution_count": 7,
   "id": "4d73533a",
   "metadata": {},
   "outputs": [
    {
     "data": {
      "text/plain": [
       "EdgeView([('00x1', 'JD')])"
      ]
     },
     "execution_count": 7,
     "metadata": {},
     "output_type": "execute_result"
    }
   ],
   "source": [
    "dg.edges"
   ]
  },
  {
   "cell_type": "code",
   "execution_count": 8,
   "id": "c5e1d9c2",
   "metadata": {},
   "outputs": [
    {
     "data": {
      "image/png": "[encoded data removed]",
      "text/plain": [
       "<Figure size 432x288 with 1 Axes>"
      ]
     },
     "metadata": {},
     "output_type": "display_data"
    }
   ],
   "source": [
    "# Visualize the graph (it's very simple now)\n",
    "dg.draw(with_labels=True)"
   ]
  },
  {
   "cell_type": "markdown",
   "id": "e1716b5d",
   "metadata": {},
   "source": [
    "# The Neural Component\n",
    "Integrating stake is a modular fashion can be done in many different ways.  Here, I model it based on a vector of votes on actions.  The main thing is to note that many interpretations of voting pattern are easier to exploit when you have an explicit vector of rational quantities tied to known, validated, actions."
   ]
  },
  {
   "cell_type": "markdown",
   "id": "d4c4f299",
   "metadata": {},
   "source": [
    "## A More complex graph\n",
    "Let's emulate a more complex graph, for example an election."
   ]
  },
  {
   "cell_type": "code",
   "execution_count": 9,
   "id": "7b71b1ca",
   "metadata": {},
   "outputs": [
    {
     "name": "stdout",
     "output_type": "stream",
     "text": [
      "added ['Mary', 'elector'], [('elector', 'Mary', {'contract': Contract(identifier='elector_Mary', kwargs={'elector': elector, 'candidate': Mary}, fn=<function elect at 0x7fa0f2b435e0>)})]\n",
      "added ['John', 'elector'], [('elector', 'John', {'contract': Contract(identifier='elector_John', kwargs={'elector': elector, 'candidate': John}, fn=<function elect at 0x7fa0f2b435e0>)})]\n",
      "added ['Tsu', 'elector'], [('elector', 'Tsu', {'contract': Contract(identifier='elector_Tsu', kwargs={'elector': elector, 'candidate': Tsu}, fn=<function elect at 0x7fa0f2b435e0>)})]\n",
      "added ['Ali', 'elector'], [('elector', 'Ali', {'contract': Contract(identifier='elector_Ali', kwargs={'elector': elector, 'candidate': Ali}, fn=<function elect at 0x7fa0f2b435e0>)})]\n"
     ]
    },
    {
     "data": {
      "image/png": "[encoded data removed]",
      "text/plain": [
       "<Figure size 432x288 with 1 Axes>"
      ]
     },
     "metadata": {},
     "output_type": "display_data"
    }
   ],
   "source": [
    "# Elector <- The actor that will actually select the winner whatever that means\n",
    "\n",
    "elector = Actor(identifier='elector')\n",
    "\n",
    "# Candidates\n",
    "candidates = [\n",
    "    Actor(identifier='Mary'),   # Remember an actor is a resource. Using 'Actor' here for semantic comfort\n",
    "    Actor(identifier='John'),\n",
    "    Actor(identifier='Tsu'),\n",
    "    Actor(identifier='Ali'),\n",
    "]\n",
    "\n",
    "# Function & Contracts\n",
    "def elect(kwargs):\n",
    "    print(f\"{kwargs['elector']} has chosen {kwargs['candidate']} as the winner!\")\n",
    "    \n",
    "contracts = []\n",
    "for candidate in candidates:\n",
    "    contracts.append(\n",
    "        Contract(\n",
    "            identifier=f\"elector_{candidate.identifier}\",\n",
    "            kwargs={'elector': elector, 'candidate': candidate},\n",
    "            fn = elect\n",
    "        )\n",
    "    )\n",
    "    \n",
    "# Actions\n",
    "actions = []\n",
    "for candidate, contract in zip(candidates, contracts):\n",
    "    actions.append(\n",
    "            Action(\n",
    "            identifier=candidate.identifier,\n",
    "            actor=elector,\n",
    "            resources=[candidate], \n",
    "            contract=contract\n",
    "        )\n",
    "    )\n",
    "    \n",
    "\n",
    "# Build the graph\n",
    "dg = DGraph()\n",
    "for action in actions:\n",
    "    dg.register_action(action)\n",
    "    \n",
    "# Visualize the graph\n",
    "dg.draw(with_labels=True)"
   ]
  },
  {
   "cell_type": "markdown",
   "id": "2013b916",
   "metadata": {},
   "source": [
    "## Build The Voting Vector\n",
    "Create a voting vector tied to each edge.  "
   ]
  },
  {
   "cell_type": "code",
   "execution_count": 10,
   "id": "eb378823",
   "metadata": {},
   "outputs": [],
   "source": [
    "class VoteRecord():\n",
    "    def __init__(self):\n",
    "        self.__record = {}\n",
    "        self.__index = None\n",
    "    \n",
    "    @property\n",
    "    def record(self):\n",
    "        return self.__record\n",
    "    \n",
    "    @property\n",
    "    def index(self):\n",
    "        if self.__index is None:\n",
    "            self.__index = {}\n",
    "            for i, val in enumerate(self.__record.keys()):\n",
    "                self.__index[i] = val\n",
    "        return self.__index\n",
    "    \n",
    "    def build_from_graph(self, graph: DGraph):\n",
    "        for nt in graph.edges:\n",
    "            edge = graph.get_edge(*nt)  # I am starting to abuse/drift/make ugly the networkX API here. sorry\n",
    "            self.__record[edge['contract'].identifier] = 0\n",
    "            \n",
    "    def vote(self, idx):\n",
    "        contract = self.__index[idx]\n",
    "        self.__record[contract] += 1\n",
    "            \n",
    "    "
   ]
  },
  {
   "cell_type": "code",
   "execution_count": 11,
   "id": "a75e1443",
   "metadata": {},
   "outputs": [],
   "source": [
    "vr = VoteRecord()\n",
    "vr.build_from_graph(graph=dg)"
   ]
  },
  {
   "cell_type": "code",
   "execution_count": 12,
   "id": "4e5f3b71",
   "metadata": {},
   "outputs": [
    {
     "data": {
      "text/plain": [
       "({'elector_Mary': 0, 'elector_John': 0, 'elector_Tsu': 0, 'elector_Ali': 0},\n",
       " {0: 'elector_Mary', 1: 'elector_John', 2: 'elector_Tsu', 3: 'elector_Ali'})"
      ]
     },
     "execution_count": 12,
     "metadata": {},
     "output_type": "execute_result"
    }
   ],
   "source": [
    "vr.record, vr.index"
   ]
  },
  {
   "cell_type": "code",
   "execution_count": 13,
   "id": "7d046b93",
   "metadata": {},
   "outputs": [
    {
     "data": {
      "text/plain": [
       "{'elector_Mary': 274,\n",
       " 'elector_John': 252,\n",
       " 'elector_Tsu': 244,\n",
       " 'elector_Ali': 230}"
      ]
     },
     "execution_count": 13,
     "metadata": {},
     "output_type": "execute_result"
    }
   ],
   "source": [
    "## Let's do some random voting\n",
    "import random\n",
    "\n",
    "for _ in range(1000):\n",
    "    vr.vote(random.randint(0, len(vr.index)-1))\n",
    "\n",
    "vr.record"
   ]
  },
  {
   "cell_type": "markdown",
   "id": "f2a8cfc9",
   "metadata": {},
   "source": [
    "## Activations\n",
    "Now we can decide which edges to activate.  This logic can be as simple or complex as required."
   ]
  },
  {
   "cell_type": "code",
   "execution_count": 14,
   "id": "10894f1f",
   "metadata": {},
   "outputs": [],
   "source": [
    "# Ultimate Voting Decision Making Ultimate Function of Ultimate\n",
    "def choose_winner(vr: VoteRecord):\n",
    "    sorted_votes = sorted(vr.record.items(), key=lambda x: -x[1])\n",
    "    winner = sorted_votes[0]\n",
    "    return winner[0]"
   ]
  },
  {
   "cell_type": "code",
   "execution_count": 15,
   "id": "daad38e1",
   "metadata": {},
   "outputs": [
    {
     "data": {
      "text/plain": [
       "'elector_Mary'"
      ]
     },
     "execution_count": 15,
     "metadata": {},
     "output_type": "execute_result"
    }
   ],
   "source": [
    "winner = choose_winner(vr)\n",
    "winner"
   ]
  },
  {
   "cell_type": "code",
   "execution_count": 16,
   "id": "4ddbbc73",
   "metadata": {},
   "outputs": [
    {
     "name": "stdout",
     "output_type": "stream",
     "text": [
      "identifier='elector' has chosen identifier='Mary' as the winner!\n"
     ]
    }
   ],
   "source": [
    "# Activate the winner!\n",
    "dg.get_edge(*winner.split('_'))['contract'].execute()"
   ]
  },
  {
   "cell_type": "code",
   "execution_count": null,
   "id": "e346c6f7",
   "metadata": {},
   "outputs": [],
   "source": []
  }
 ],
 "metadata": {
  "kernelspec": {
   "display_name": "Python 3",
   "language": "python",
   "name": "python3"
  },
  "language_info": {
   "codemirror_mode": {
    "name": "ipython",
    "version": 3
   },
   "file_extension": ".py",
   "mimetype": "text/x-python",
   "name": "python",
   "nbconvert_exporter": "python",
   "pygments_lexer": "ipython3",
   "version": "3.8.0"
  }
 },
 "nbformat": 4,
 "nbformat_minor": 5
}
