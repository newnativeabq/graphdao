{
 "cells": [
  {
   "cell_type": "markdown",
   "id": "3edbdc67",
   "metadata": {},
   "source": [
    "# The Action\n",
    "\n",
    "A class of actor, resource(s), and functions with side effects on those resource(s).  A resource can be an actor itself for more complicated graphs."
   ]
  },
  {
   "cell_type": "code",
   "execution_count": 16,
   "id": "ec8514ce",
   "metadata": {},
   "outputs": [],
   "source": [
    "from pydantic import BaseModel\n",
    "from typing import List\n",
    "\n",
    "\n",
    "class Resource(BaseModel):\n",
    "    identifier: str\n",
    "\n",
    "\n",
    "class Actor(Resource):\n",
    "    identifier: str\n",
    "\n",
    "\n",
    "class Action(BaseModel):\n",
    "    actor: Actor\n",
    "    resources: List[Resource]"
   ]
  },
  {
   "cell_type": "code",
   "execution_count": 17,
   "id": "27f77c90",
   "metadata": {},
   "outputs": [
    {
     "data": {
      "text/plain": [
       "Action(actor=Actor(identifier='JD'), resources=[Resource(identifier='00x1')])"
      ]
     },
     "execution_count": 17,
     "metadata": {},
     "output_type": "execute_result"
    }
   ],
   "source": [
    "wallet = Resource(identifier='00x1')\n",
    "me = Actor(identifier='JD')\n",
    "vote = Action(actor=me, resources=[wallet])\n",
    "vote"
   ]
  },
  {
   "cell_type": "markdown",
   "id": "f8447af1",
   "metadata": {},
   "source": [
    "# The Graph\n",
    "By registering actions, a graph can be built."
   ]
  },
  {
   "cell_type": "code",
   "execution_count": null,
   "id": "0f08e839",
   "metadata": {},
   "outputs": [],
   "source": []
  }
 ],
 "metadata": {
  "kernelspec": {
   "display_name": "Python 3",
   "language": "python",
   "name": "python3"
  },
  "language_info": {
   "codemirror_mode": {
    "name": "ipython",
    "version": 3
   },
   "file_extension": ".py",
   "mimetype": "text/x-python",
   "name": "python",
   "nbconvert_exporter": "python",
   "pygments_lexer": "ipython3",
   "version": "3.8.0"
  }
 },
 "nbformat": 4,
 "nbformat_minor": 5
}
