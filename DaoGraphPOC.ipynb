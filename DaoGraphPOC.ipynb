{
 "cells": [
  {
   "cell_type": "markdown",
   "id": "fa178b78",
   "metadata": {},
   "source": [
    "# Graph Scoped DAO\n",
    "A proof of concept graph network that provides implicit scope through the structure of its votable interactions.  All actions of the DAO are modelled as actor/resrouce actions.  The set of actions is used to build and visualize the DAO.  Continuous staking on actions causes stateful updates of resources controlled by the DAO via the actor/resource actions.  \n",
    "\n",
    "**Benefits:**\n",
    "- Formal analysis of actors, resources possible.\n",
    "- Participant values can be added in multiple places and modelled - choosing what edges exist as well as how the actions are activated.\n",
    "- The graph has explicit scope and that scope can be visualized.  Artist rendering of how the system is controlled can be made 'to scale'.\n",
    "- Scalable and dockable.  Very complex governance can be modelled and added in pieces with open verification of interacting elements and modelling of the system available at every change.  A huge improvement over subjective law.\n",
    "\n",
    "**Cons:**\n",
    "- Everything is explicit. Implicit governance can only be done through vague actions.\n",
    "- Fluidity and timing of state updates is another layer of complexity.  May need a structure to control state updates. \n",
    "- Disaster recovery must be modelled in.\n",
    "- Even a simple graph or simple vote activation function may lead to complex, unwanted, behaviors unseen before.\n",
    "\n",
    "\n",
    "## Goals of Standard Construction and Primitives\n",
    "\n",
    "1. A DAO is only valid if it can be represented as a fully connected graph.\n",
    "2. A DAO is only valid if it defines its own external interface.\n",
    "3. A DAO is only valid if it controls its own data.\n",
    "4. A DAO is only valid if it can be formally compiled into a set of valid smart contracts."
   ]
  },
  {
   "cell_type": "markdown",
   "id": "e4189cda",
   "metadata": {},
   "source": [
    "## Composing Primitives"
   ]
  },
  {
   "cell_type": "markdown",
   "id": "7250fda6",
   "metadata": {},
   "source": [
    "## The Action\n",
    "\n",
    "A class of actor, resource(s), and functions with side effects on those resource(s).  A resource can be an actor itself for more complicated graphs."
   ]
  },
  {
   "cell_type": "code",
   "execution_count": 1,
   "id": "769a04fe",
   "metadata": {},
   "outputs": [],
   "source": [
    "from pydantic import BaseModel\n",
    "from typing import List, Dict, Any\n",
    "\n",
    "\n",
    "class Resource(BaseModel):\n",
    "    identifier: str\n",
    "\n",
    "    def __repr__(self):\n",
    "        return self.identifier\n",
    "    \n",
    "        \n",
    "class Actor(Resource):\n",
    "    identifier: str\n",
    "        \n",
    "    def __repr__(self):\n",
    "        return self.identifier\n",
    "\n",
    "\n",
    "class Contract(BaseModel):\n",
    "    identifier: str\n",
    "    kwargs: Dict[str, Resource]\n",
    "    fn: Any\n",
    "    \n",
    "    def execute(self):\n",
    "        try:\n",
    "            self.fn(self.kwargs)\n",
    "        except Exception as e:\n",
    "            print('Error: could not execute contract')\n",
    "            raise e\n",
    "    \n",
    "\n",
    "class Action(BaseModel):\n",
    "    identifier: str\n",
    "    actor: Actor\n",
    "    resources: List[Resource]\n",
    "    contract: Contract\n",
    "        \n",
    "    @property\n",
    "    def nodes(self) -> list:\n",
    "        n = []\n",
    "        n.extend([r.identifier for r in self.resources])\n",
    "        n.extend([self.actor.identifier])\n",
    "        return n\n",
    "    \n",
    "    @property\n",
    "    def edges(self) -> list:\n",
    "        e = []\n",
    "        e.extend([(self.actor.identifier, r.identifier, {'contract':self.contract}) for r in self.resources])\n",
    "        return e"
   ]
  },
  {
   "cell_type": "code",
   "execution_count": 2,
   "id": "f9ee7c4d",
   "metadata": {},
   "outputs": [
    {
     "name": "stdout",
     "output_type": "stream",
     "text": [
      "JD owns 00x1\n"
     ]
    }
   ],
   "source": [
    "# A resource can be scarce or restricted object (this can be a wallet, login service, payment authorization token api, whatever)\n",
    "wallet = Resource(identifier='00x1')\n",
    "\n",
    "# An actor should be required by the contract function, otherwise the edge is meaningless.\n",
    "me = Actor(identifier='JD')\n",
    "\n",
    "# A contract is any function of named arguments.  \n",
    "#  This can certainly be a smart contract, but side effects don't have to be on chain.\n",
    "contract = Contract(\n",
    "    identifier = 'simple_print',\n",
    "    kwargs = {'owner': me, 'wallet': wallet}, \n",
    "    fn = lambda kw: print(f\"{kw['owner'].identifier} owns {kw['wallet'].identifier}\"\n",
    "))\n",
    "\n",
    "# The Action is an edge of the network.  We define actions and build the network from concrete actions\n",
    "#  opposed \n",
    "print_info = Action(\n",
    "    identifier='p1',\n",
    "    actor=me, \n",
    "    resources=[wallet], \n",
    "    contract=contract)\n",
    "\n",
    "print_info.contract.execute()  # In practice, executed by stake net"
   ]
  },
  {
   "cell_type": "markdown",
   "id": "2b6692a1",
   "metadata": {},
   "source": [
    "# The Graph\n",
    "By registering actions, a graph can be built."
   ]
  },
  {
   "cell_type": "code",
   "execution_count": 3,
   "id": "52c9b5e4",
   "metadata": {},
   "outputs": [],
   "source": [
    "import networkx as nx\n",
    "\n",
    "class DGraph():\n",
    "    def __init__(self):\n",
    "        self.__g = nx.Graph()\n",
    "        \n",
    "    def register_action(self, action: Action):\n",
    "        self.__g.add_nodes_from(action.nodes)\n",
    "        self.__g.add_edges_from(action.edges)\n",
    "        print(f\"added {action.nodes}, {action.edges}\")\n",
    "        \n",
    "    @property\n",
    "    def num_nodes(self):\n",
    "        return self.__g.number_of_nodes()\n",
    "    \n",
    "    @property\n",
    "    def num_edges(self):\n",
    "        return self.__g.number_of_edges()\n",
    "    \n",
    "    @property\n",
    "    def nodes(self):\n",
    "        return self.__g.nodes\n",
    "    \n",
    "    @property\n",
    "    def edges(self):\n",
    "        return self.__g.edges\n",
    "    \n",
    "    def get_edge(self, a, b):\n",
    "        return self.__g[a][b]\n",
    "    \n",
    "    def draw(self, *args, **kwargs):\n",
    "        nx.draw(self.__g, *args, **kwargs)"
   ]
  },
  {
   "cell_type": "code",
   "execution_count": 4,
   "id": "195bcdb9",
   "metadata": {},
   "outputs": [
    {
     "name": "stdout",
     "output_type": "stream",
     "text": [
      "added ['00x1', 'JD'], [('JD', '00x1', {'contract': Contract(identifier='simple_print', kwargs={'owner': JD, 'wallet': 00x1}, fn=<function <lambda> at 0x7fb03c839430>)})]\n"
     ]
    }
   ],
   "source": [
    "# Register actions to build the graph\n",
    "dg = DGraph()\n",
    "dg.register_action(print_info)"
   ]
  },
  {
   "cell_type": "code",
   "execution_count": 5,
   "id": "8320beac",
   "metadata": {},
   "outputs": [
    {
     "data": {
      "text/plain": [
       "(2, 1)"
      ]
     },
     "execution_count": 5,
     "metadata": {},
     "output_type": "execute_result"
    }
   ],
   "source": [
    "dg.num_nodes, dg.num_edges"
   ]
  },
  {
   "cell_type": "code",
   "execution_count": 6,
   "id": "d9a26cee",
   "metadata": {},
   "outputs": [
    {
     "data": {
      "text/plain": [
       "NodeView(('00x1', 'JD'))"
      ]
     },
     "execution_count": 6,
     "metadata": {},
     "output_type": "execute_result"
    }
   ],
   "source": [
    "dg.nodes"
   ]
  },
  {
   "cell_type": "code",
   "execution_count": 7,
   "id": "4d73533a",
   "metadata": {},
   "outputs": [
    {
     "data": {
      "text/plain": [
       "EdgeView([('00x1', 'JD')])"
      ]
     },
     "execution_count": 7,
     "metadata": {},
     "output_type": "execute_result"
    }
   ],
   "source": [
    "dg.edges"
   ]
  },
  {
   "cell_type": "code",
   "execution_count": 8,
   "id": "c5e1d9c2",
   "metadata": {},
   "outputs": [
    {
     "data": {
      "image/png": "[encoded data removed]",
      "text/plain": [
       "<Figure size 432x288 with 1 Axes>"
      ]
     },
     "metadata": {},
     "output_type": "display_data"
    }
   ],
   "source": [
    "# Visualize the graph (it's very simple now)\n",
    "dg.draw(with_labels=True)"
   ]
  },
  {
   "cell_type": "markdown",
   "id": "e1716b5d",
   "metadata": {},
   "source": [
    "# Building Up Complexity, Interfaces, Utility\n",
    "Integrating stake is a modular fashion can be done in many different ways.  Here, I model it based on a vector of votes on actions.  The main thing is to note that many interpretations of voting pattern are easier to exploit when you have an explicit vector of rational quantities tied to known, validated, actions."
   ]
  },
  {
   "cell_type": "markdown",
   "id": "d4c4f299",
   "metadata": {},
   "source": [
    "## A More complex graph\n",
    "Let's emulate a more complex graph, for example an election."
   ]
  },
  {
   "cell_type": "code",
   "execution_count": 9,
   "id": "7b71b1ca",
   "metadata": {},
   "outputs": [
    {
     "name": "stdout",
     "output_type": "stream",
     "text": [
      "added ['Mary', 'elector'], [('elector', 'Mary', {'contract': Contract(identifier='elector_Mary', kwargs={'elector': elector, 'candidate': Mary}, fn=<function elect at 0x7fb0106475e0>)})]\n",
      "added ['John', 'elector'], [('elector', 'John', {'contract': Contract(identifier='elector_John', kwargs={'elector': elector, 'candidate': John}, fn=<function elect at 0x7fb0106475e0>)})]\n",
      "added ['Tsu', 'elector'], [('elector', 'Tsu', {'contract': Contract(identifier='elector_Tsu', kwargs={'elector': elector, 'candidate': Tsu}, fn=<function elect at 0x7fb0106475e0>)})]\n",
      "added ['Ali', 'elector'], [('elector', 'Ali', {'contract': Contract(identifier='elector_Ali', kwargs={'elector': elector, 'candidate': Ali}, fn=<function elect at 0x7fb0106475e0>)})]\n"
     ]
    },
    {
     "data": {
      "image/png": "[encoded data removed]",
      "text/plain": [
       "<Figure size 432x288 with 1 Axes>"
      ]
     },
     "metadata": {},
     "output_type": "display_data"
    }
   ],
   "source": [
    "# Elector <- The actor that will actually select the winner whatever that means\n",
    "\n",
    "elector = Actor(identifier='elector')\n",
    "\n",
    "# Candidates\n",
    "candidates = [\n",
    "    Actor(identifier='Mary'),   # Remember an actor is a resource. Using 'Actor' here for semantic comfort\n",
    "    Actor(identifier='John'),\n",
    "    Actor(identifier='Tsu'),\n",
    "    Actor(identifier='Ali'),\n",
    "]\n",
    "\n",
    "# Function & Contracts\n",
    "def elect(kwargs):\n",
    "    print(f\"{kwargs['elector']} has chosen {kwargs['candidate']} as the winner!\")\n",
    "    \n",
    "contracts = []\n",
    "for candidate in candidates:\n",
    "    contracts.append(\n",
    "        Contract(\n",
    "            identifier=f\"elector_{candidate.identifier}\",\n",
    "            kwargs={'elector': elector, 'candidate': candidate},\n",
    "            fn = elect\n",
    "        )\n",
    "    )\n",
    "    \n",
    "# Actions\n",
    "actions = []\n",
    "for candidate, contract in zip(candidates, contracts):\n",
    "    actions.append(\n",
    "            Action(\n",
    "            identifier=candidate.identifier,\n",
    "            actor=elector,\n",
    "            resources=[candidate], \n",
    "            contract=contract\n",
    "        )\n",
    "    )\n",
    "    \n",
    "\n",
    "# Build the graph\n",
    "dg = DGraph()\n",
    "for action in actions:\n",
    "    dg.register_action(action)\n",
    "    \n",
    "# Visualize the graph\n",
    "dg.draw(with_labels=True)"
   ]
  },
  {
   "cell_type": "markdown",
   "id": "2013b916",
   "metadata": {},
   "source": [
    "## Build The Voting Vector - An Emergent Structure\n",
    "Create a voting vector tied to each edge.  This is a somewhat naturally occuring structure built from the graph itself, not a separate primitive.  Where and when the data is stored needs further discussion.  Data primitives (where the data/verfications actually reside) is another topic."
   ]
  },
  {
   "cell_type": "code",
   "execution_count": 10,
   "id": "eb378823",
   "metadata": {},
   "outputs": [],
   "source": [
    "class VoteRecord():\n",
    "    def __init__(self):\n",
    "        self.__record = {}\n",
    "        self.__index = None\n",
    "    \n",
    "    @property\n",
    "    def record(self):\n",
    "        return self.__record\n",
    "    \n",
    "    @property\n",
    "    def index(self):\n",
    "        if self.__index is None:\n",
    "            self.__index = {}\n",
    "            for i, val in enumerate(self.__record.keys()):\n",
    "                self.__index[i] = val\n",
    "        return self.__index\n",
    "    \n",
    "    def build_from_graph(self, graph: DGraph):\n",
    "        for nt in graph.edges:\n",
    "            edge = graph.get_edge(*nt)  # I am starting to abuse/drift/make ugly the networkX API here. sorry\n",
    "            self.__record[edge['contract'].identifier] = 0\n",
    "            \n",
    "    def vote(self, idx):\n",
    "        contract = self.__index[idx]\n",
    "        self.__record[contract] += 1\n",
    "            \n",
    "    "
   ]
  },
  {
   "cell_type": "code",
   "execution_count": 11,
   "id": "a75e1443",
   "metadata": {},
   "outputs": [],
   "source": [
    "vr = VoteRecord()\n",
    "vr.build_from_graph(graph=dg)"
   ]
  },
  {
   "cell_type": "code",
   "execution_count": 12,
   "id": "4e5f3b71",
   "metadata": {},
   "outputs": [
    {
     "data": {
      "text/plain": [
       "({'elector_Mary': 0, 'elector_John': 0, 'elector_Tsu': 0, 'elector_Ali': 0},\n",
       " {0: 'elector_Mary', 1: 'elector_John', 2: 'elector_Tsu', 3: 'elector_Ali'})"
      ]
     },
     "execution_count": 12,
     "metadata": {},
     "output_type": "execute_result"
    }
   ],
   "source": [
    "vr.record, vr.index"
   ]
  },
  {
   "cell_type": "code",
   "execution_count": 13,
   "id": "7d046b93",
   "metadata": {},
   "outputs": [
    {
     "data": {
      "text/plain": [
       "{'elector_Mary': 248,\n",
       " 'elector_John': 229,\n",
       " 'elector_Tsu': 245,\n",
       " 'elector_Ali': 278}"
      ]
     },
     "execution_count": 13,
     "metadata": {},
     "output_type": "execute_result"
    }
   ],
   "source": [
    "## Let's do some random voting\n",
    "import random\n",
    "\n",
    "for _ in range(1000):\n",
    "    vr.vote(random.randint(0, len(vr.index)-1))\n",
    "\n",
    "vr.record"
   ]
  },
  {
   "cell_type": "markdown",
   "id": "f2a8cfc9",
   "metadata": {},
   "source": [
    "## Activations\n",
    "Now we can decide which edges to activate.  This logic can be as simple or complex as required.  Activations are primitives as well.  Further discussion is needed to refine interface and activation primitives."
   ]
  },
  {
   "cell_type": "code",
   "execution_count": 14,
   "id": "10894f1f",
   "metadata": {},
   "outputs": [],
   "source": [
    "# Example of an activation function that reads from an emergent structure (voting record)\n",
    "\n",
    "# Ultimate Voting Decision Making Ultimate Function of Ultimate\n",
    "def choose_winner(vr: VoteRecord):\n",
    "    sorted_votes = sorted(vr.record.items(), key=lambda x: -x[1])\n",
    "    winner = sorted_votes[0]\n",
    "    return winner[0]"
   ]
  },
  {
   "cell_type": "code",
   "execution_count": 15,
   "id": "daad38e1",
   "metadata": {},
   "outputs": [
    {
     "data": {
      "text/plain": [
       "'elector_Ali'"
      ]
     },
     "execution_count": 15,
     "metadata": {},
     "output_type": "execute_result"
    }
   ],
   "source": [
    "winner = choose_winner(vr)\n",
    "winner"
   ]
  },
  {
   "cell_type": "code",
   "execution_count": 16,
   "id": "4ddbbc73",
   "metadata": {},
   "outputs": [
    {
     "name": "stdout",
     "output_type": "stream",
     "text": [
      "identifier='elector' has chosen identifier='Ali' as the winner!\n"
     ]
    }
   ],
   "source": [
    "# Activate the winner!\n",
    "dg.get_edge(*winner.split('_'))['contract'].execute()"
   ]
  },
  {
   "cell_type": "markdown",
   "id": "a9df4fba",
   "metadata": {},
   "source": [
    "## Extending Actor to signer, Coalition\n",
    "The actor is a unique resource in DAOs due to its ability to agree to sign a transaction.  \n",
    "\n",
    "An actor or acting body does not need to represent a single person or entity, but instead may be a dyad (2 parallel or serial actors) or a coalition (many).\n",
    "\n",
    "Here we add these features to actor in a composable fashion.  \n",
    "1. Consensus\n",
    "2. Sign\n",
    "\n",
    "If self.consensus(), sign(tx)."
   ]
  },
  {
   "cell_type": "code",
   "execution_count": 5,
   "id": "08994ff5",
   "metadata": {},
   "outputs": [],
   "source": [
    "from pydantic import BaseModel\n",
    "from typing import Any\n",
    "\n",
    "from primitives.resources import Resource\n",
    "from utils.signatures import add_general_signature\n",
    "\n",
    "\n",
    "class Consensus(BaseModel):\n",
    "    fn: Any\n",
    "        \n",
    "    def resolve(self, *args, **kwargs):\n",
    "        return self.fn(*args, **kwargs)\n",
    "        \n",
    "\n",
    "class Actor(Resource):\n",
    "    identifier: str\n",
    "    consensus: Consensus\n",
    "    key: str\n",
    "    \n",
    "    def __repr__(self):\n",
    "        return self.identifier\n",
    "    \n",
    "    def sign(self, transaction):\n",
    "        # Add a signature\n",
    "        if self.consensus.resolve():\n",
    "            return add_general_signature(self.identifier, self.key, transaction)\n",
    "        else:\n",
    "            raise ValueError(f'{self.identifer} Consensus not True')"
   ]
  },
  {
   "cell_type": "code",
   "execution_count": 6,
   "id": "d8d70084",
   "metadata": {},
   "outputs": [
    {
     "data": {
      "text/plain": [
       "{'SomeData': 'ThatMeansSomething',\n",
       " 'signatures': [{'simpleEnt': '6daa4542b94c91d4674e4027d222de56'}]}"
      ]
     },
     "execution_count": 6,
     "metadata": {},
     "output_type": "execute_result"
    }
   ],
   "source": [
    "# Let's see how a simple entity that always returns true signs a transaction\n",
    "\n",
    "def return_true(): return True\n",
    "\n",
    "simple_actor = Actor(\n",
    "    identifier='simpleEnt',\n",
    "    consensus=Consensus(fn=return_true),\n",
    "    key='TheMostSecureKeyEver1!',\n",
    ")\n",
    "\n",
    "simple_transaction = {'SomeData': 'ThatMeansSomething'}\n",
    "\n",
    "simple_actor.sign(simple_transaction)"
   ]
  },
  {
   "cell_type": "markdown",
   "id": "ce8cbd59",
   "metadata": {},
   "source": [
    "### Building the multi actor entity as a composition of actors\n",
    "We'll create a composable coalition of multiple actors that takes its own consensus function.  For simplicity sake, we'll have everyone sign and not use a more dense composite signature."
   ]
  },
  {
   "cell_type": "code",
   "execution_count": 4,
   "id": "9ca8a6e1",
   "metadata": {},
   "outputs": [],
   "source": [
    "from typing import List\n",
    "\n",
    "class Coalition(Actor):\n",
    "    actors: List[Actor]\n",
    "        \n",
    "    def sign(self, transaction):\n",
    "        if self.consensus.resolve(self.actors):\n",
    "            for actor in self.actors:\n",
    "                add_general_signature(actor.identifier, actor.key, transaction)\n",
    "            return transaction\n",
    "        else:\n",
    "            raise ValueError(f'{self.identifer} Consensus not True')"
   ]
  },
  {
   "cell_type": "code",
   "execution_count": 6,
   "id": "b36a3606",
   "metadata": {},
   "outputs": [
    {
     "data": {
      "text/plain": [
       "{'SomeNewData': 'ThatACoalitionThinksIsImportant',\n",
       " 'signatures': [{'0': 'c649d5f0e2979f91191e6b50ba459120'},\n",
       "  {'1': '7702517de13054fe73774d879ea28f79'},\n",
       "  {'2': 'def2d419575a463e7acb3f120fe4e21b'},\n",
       "  {'3': 'db720b4ba396cd172eb94b363ed2c7fc'},\n",
       "  {'4': 'eba8ca931f72972dd09512e53af4520d'}]}"
      ]
     },
     "execution_count": 6,
     "metadata": {},
     "output_type": "execute_result"
    }
   ],
   "source": [
    "import random\n",
    "\n",
    "from utils.signatures import add_general_signature\n",
    "\n",
    "# Create a simple aggregate consensus function (this could be anything), we'll just say All TRUE\n",
    "def check_all_true(actors: List[Actor], i=0) -> bool:\n",
    "    if i < len(actors):\n",
    "        if actors[i].consensus.resolve():\n",
    "            check_all_true(actors, i + 1)\n",
    "        else:\n",
    "            return False\n",
    "    return True\n",
    "\n",
    "# Create a few actors\n",
    "actors = [\n",
    "    Actor(\n",
    "        identifier=i, \n",
    "        consensus=Consensus(fn=return_true), \n",
    "        key=str(random.randint(10000,1000000))\n",
    "    ) \n",
    "    for i in range(5)\n",
    "]\n",
    "\n",
    "# Build Coalition\n",
    "simple_coalition = Coalition(\n",
    "    identifier='SimpleCoalition',\n",
    "    actors=actors,\n",
    "    consensus=Consensus(fn=check_all_true),\n",
    "    key='SimpleGroupKey@PowerOfMany')\n",
    "\n",
    "# Have the coalition sign a simple transaction\n",
    "simple_transaction = {'SomeNewData': 'ThatACoalitionThinksIsImportant'}\n",
    "simple_coalition.sign(simple_transaction)"
   ]
  },
  {
   "cell_type": "markdown",
   "id": "2d3e069f",
   "metadata": {},
   "source": [
    "**Connecting** coalitions to the larger graph comes with some interesting issues.  Here, we implement a REQUIRE action that connects the coalition with its members.  There may exist a family of validations or other functions to act as actions for this linkage."
   ]
  },
  {
   "cell_type": "code",
   "execution_count": 14,
   "id": "c7860187",
   "metadata": {},
   "outputs": [
    {
     "data": {
      "image/png": "[encoded data removed]",
      "text/plain": [
       "<Figure size 432x288 with 1 Axes>"
      ]
     },
     "metadata": {},
     "output_type": "display_data"
    }
   ],
   "source": [
    "from primitives.actions import Action\n",
    "from primitives.resources import Function\n",
    "\n",
    "def requires(resource_a, resource_b):\n",
    "    assert resource_a is not None\n",
    "    assert resource_b is not None\n",
    "\n",
    "\n",
    "# Define requirements\n",
    "requirements = []\n",
    "for actor in actors:\n",
    "    requirements.append(\n",
    "        Action(\n",
    "            identifier=f'requires_{actor.identifier}',\n",
    "            actor=simple_coalition,\n",
    "            resources=[actor],\n",
    "            function = Function(\n",
    "                identifier=f'requires_{actor.identifier}',\n",
    "                kwargs={'resource_a': simple_coalition, 'resource_b': actor},\n",
    "                fn=requires,\n",
    "            )\n",
    "        )\n",
    "    )\n",
    "\n",
    "\n",
    "# Draw Graph    \n",
    "from graphs.graph import DGraph\n",
    "dgraph = DGraph()\n",
    "\n",
    "for rq in requirements:\n",
    "    dgraph.register_action(rq)\n",
    "    \n",
    "dgraph.draw()"
   ]
  },
  {
   "cell_type": "markdown",
   "id": "89847815",
   "metadata": {},
   "source": [
    "## Data & Interfaces (Internal Readers, Oracles, and Writers)\n",
    "Interfaces act as data connectors from the DAO to internal and external data sources.  An Oracle is a subclass of interface that allows for aggregation and consensus along with values. \n",
    "\n",
    "Note, this implementation does not preclude others.  Interfaces and databases are use specific and can be anything that meets the needs of the DAO (ownership, access, control) and the network (performance)."
   ]
  },
  {
   "cell_type": "code",
   "execution_count": 7,
   "id": "48add050",
   "metadata": {},
   "outputs": [
    {
     "data": {
      "text/plain": [
       "[{'test_transaction': 'SomeTestDataCouldBeALot'},\n",
       " {'another_tx': 'SomeOtherCool Info'}]"
      ]
     },
     "execution_count": 7,
     "metadata": {},
     "output_type": "execute_result"
    }
   ],
   "source": [
    "# An Interface can read/write data\n",
    "# Specify a data store\n",
    "data = DemoData(\n",
    "    identifier='DAOCache',\n",
    "    store=[],\n",
    ")\n",
    "\n",
    "# Specify an Interface for that data\n",
    "interface = Interface(\n",
    "    identifier='CacheInterface',\n",
    "    data=data,\n",
    ")\n",
    "\n",
    "interface.write({'test_transaction': 'SomeTestDataCouldBeALot'})\n",
    "interface.write({'another_tx': 'SomeOtherCool Info'})\n",
    "interface.read()"
   ]
  },
  {
   "cell_type": "markdown",
   "id": "b0fd41da",
   "metadata": {},
   "source": [
    "#### Modeling An Actor Read/Write\n",
    "With data and its interface described, we can now specify relations between actors and data sources in the graph"
   ]
  },
  {
   "cell_type": "code",
   "execution_count": 1,
   "id": "08d3642a",
   "metadata": {},
   "outputs": [
    {
     "name": "stdout",
     "output_type": "stream",
     "text": [
      "added ['DAOCache', 'CacheInterface'], [('CacheInterface', 'DAOCache', {'function': Function(identifier='SimpleWriteTransaction', kwargs={'interface': CacheInterface}, fn=<function null_fn at 0x7f6d6da88d30>)})]\n",
      "added ['CacheInterface', 'Mary'], [('Mary', 'CacheInterface', {'function': Function(identifier='SignWrite_Mary', kwargs={'interface': CacheInterface}, fn=<function null_fn at 0x7f6d6da88d30>)})]\n",
      "added ['CacheInterface', 'John'], [('John', 'CacheInterface', {'function': Function(identifier='SignWrite_John', kwargs={'interface': CacheInterface}, fn=<function null_fn at 0x7f6d6da88d30>)})]\n"
     ]
    },
    {
     "data": {
      "image/png": "[encoded data removed]",
      "text/plain": [
       "<Figure size 432x288 with 1 Axes>"
      ]
     },
     "metadata": {},
     "output_type": "display_data"
    }
   ],
   "source": [
    "import random\n",
    "\n",
    "from primitives.actions import Action\n",
    "from primitives.interfaces import Interface\n",
    "from primitives.resources import Function, DemoData, Actor, Consensus\n",
    "from utils.simple_functions import return_true, check_all_true\n",
    "\n",
    "from graphs.graph import DGraph\n",
    "\n",
    "# Get prepared data to write\n",
    "def get_transaction():\n",
    "    pass \n",
    "\n",
    "def null_fn(*args, **kwargs):\n",
    "    pass\n",
    "\n",
    "\n",
    "# Specify a data store\n",
    "data = DemoData(\n",
    "    identifier='DAOCache',\n",
    "    store=[],\n",
    ")\n",
    "\n",
    "# Specify an Interface for that data\n",
    "interface = Interface(\n",
    "    identifier='CacheInterface',\n",
    "    data=data,\n",
    ")\n",
    "\n",
    "# Create some Actors that use the interface\n",
    "actors = [\n",
    "    Actor(identifier='Mary', consensus=Consensus(fn=return_true), key=str(random.randint(10000,1000000))),\n",
    "    Actor(identifier='John', consensus=Consensus(fn=return_true), key=str(random.randint(10000,1000000))),\n",
    "]\n",
    "\n",
    "\n",
    "# Specify a sign/write Action from the actors to the interface\n",
    "def build_sign_write(actor:Actor, interface:Interface) -> Action:\n",
    "    return Action(\n",
    "        identifier=f'SignWrite_{actor.identifier}',\n",
    "        actor=actor,\n",
    "        resources=[interface],\n",
    "        function=Function(\n",
    "            identifier=f'SignWrite_{actor.identifier}',\n",
    "            kwargs={'interface':interface},\n",
    "            fn=null_fn\n",
    "        )\n",
    "    )\n",
    "    \n",
    "\n",
    "\n",
    "# Specify a Write Transaction Action from the interface to the data\n",
    "write_cache = Action(\n",
    "    identifier='WriteCache',\n",
    "    actor=interface,\n",
    "    resources=[data],\n",
    "    function=Function(\n",
    "        identifier='SimpleWriteTransaction',\n",
    "        kwargs={'interface':interface},\n",
    "        fn=null_fn,  ## The function is expected to call any oracles or information into memory to build the write!\n",
    "    )\n",
    ")\n",
    "\n",
    "# Compile the actions and define the graph\n",
    "actions = [\n",
    "    write_cache,\n",
    "    build_sign_write(actors[0], interface),\n",
    "    build_sign_write(actors[1], interface),\n",
    "]\n",
    "\n",
    "# Build the graph\n",
    "dg = DGraph()\n",
    "for action in actions:\n",
    "    dg.register_action(action)\n",
    "    \n",
    "# Visualize the graph\n",
    "dg.draw(with_labels=True)"
   ]
  },
  {
   "cell_type": "markdown",
   "id": "0878ce62",
   "metadata": {},
   "source": [
    "### Oracles - A combination of actor signatures and read interfaces; extends Actor again.\n",
    "Oracles can participate in coalitions, and so must be actors that can verify their actions via signature.  To accomplish this in a transparent way within this framework, we'll use an actor, and interface, and a datasource."
   ]
  },
  {
   "cell_type": "code",
   "execution_count": 1,
   "id": "6e478bcb",
   "metadata": {},
   "outputs": [
    {
     "ename": "ImportError",
     "evalue": "cannot import name 'Interface' from 'primitives.resources' (/mnt/c/Users/vince/Bin/graphdao/primitives/resources.py)",
     "output_type": "error",
     "traceback": [
      "\u001b[0;31m---------------------------------------------------------------------------\u001b[0m",
      "\u001b[0;31mImportError\u001b[0m                               Traceback (most recent call last)",
      "\u001b[0;32m<ipython-input-1-93e7b2e142b7>\u001b[0m in \u001b[0;36m<module>\u001b[0;34m\u001b[0m\n\u001b[1;32m      1\u001b[0m \u001b[0;32mfrom\u001b[0m \u001b[0mprimitives\u001b[0m\u001b[0;34m.\u001b[0m\u001b[0mactions\u001b[0m \u001b[0;32mimport\u001b[0m \u001b[0mAction\u001b[0m\u001b[0;34m\u001b[0m\u001b[0;34m\u001b[0m\u001b[0m\n\u001b[0;32m----> 2\u001b[0;31m \u001b[0;32mfrom\u001b[0m \u001b[0mprimitives\u001b[0m\u001b[0;34m.\u001b[0m\u001b[0mresources\u001b[0m \u001b[0;32mimport\u001b[0m \u001b[0mFunction\u001b[0m\u001b[0;34m,\u001b[0m \u001b[0mDemoData\u001b[0m\u001b[0;34m,\u001b[0m \u001b[0mInterface\u001b[0m\u001b[0;34m,\u001b[0m \u001b[0mActor\u001b[0m\u001b[0;34m,\u001b[0m \u001b[0mConsensus\u001b[0m\u001b[0;34m,\u001b[0m \u001b[0mData\u001b[0m\u001b[0;34m\u001b[0m\u001b[0;34m\u001b[0m\u001b[0m\n\u001b[0m\u001b[1;32m      3\u001b[0m \u001b[0;32mfrom\u001b[0m \u001b[0mutils\u001b[0m\u001b[0;34m.\u001b[0m\u001b[0msimple_functions\u001b[0m \u001b[0;32mimport\u001b[0m \u001b[0mbuild_read_from_interface\u001b[0m\u001b[0;34m,\u001b[0m \u001b[0mreturn_true\u001b[0m\u001b[0;34m\u001b[0m\u001b[0;34m\u001b[0m\u001b[0m\n\u001b[1;32m      4\u001b[0m \u001b[0;34m\u001b[0m\u001b[0m\n\u001b[1;32m      5\u001b[0m \u001b[0;32mimport\u001b[0m \u001b[0mrandom\u001b[0m\u001b[0;34m\u001b[0m\u001b[0;34m\u001b[0m\u001b[0m\n",
      "\u001b[0;31mImportError\u001b[0m: cannot import name 'Interface' from 'primitives.resources' (/mnt/c/Users/vince/Bin/graphdao/primitives/resources.py)"
     ]
    }
   ],
   "source": [
    "from primitives.actions import Action\n",
    "from primitives.resources import Function, DemoData, Interface, Actor, Consensus, Data\n",
    "from utils.simple_functions import build_read_from_interface, return_true\n",
    "\n",
    "import random\n",
    "\n",
    "\n",
    "class Oracle(Actor):\n",
    "    interface: Interface\n",
    "    data: Data\n",
    "        \n",
    "    def collect(self, *args, **kwargs):\n",
    "        if self.consensus.resolve(*args, **kwargs):\n",
    "            return self.sign(\n",
    "                {'data': self.interface.read(*args, **kwargs)}\n",
    "            )\n",
    "        \n",
    "    # Oracles have an associated action.\n",
    "    #  Register the Action to build the graph\n",
    "    @property\n",
    "    def action(self) -> Action:\n",
    "        return Action(\n",
    "            identifier=self.identifier,\n",
    "            resources=[self.interface, self.data],\n",
    "            function=self.build_oracle_function(),\n",
    "            actor=self.interface,\n",
    "        )\n",
    "    \n",
    "    def build_oracle_function(self):\n",
    "        return Function(\n",
    "            identifier=self.identifier,\n",
    "            kwargs={'interface': self.interface},\n",
    "            fn=build_read_from_interface(self.interface)\n",
    "        )\n",
    "    \n",
    "    "
   ]
  },
  {
   "cell_type": "code",
   "execution_count": 3,
   "id": "e04c5fcb",
   "metadata": {},
   "outputs": [
    {
     "data": {
      "text/plain": [
       "{'data': ['SecretsFromTheOracle'],\n",
       " 'signatures': [{'DemoOracle': '59a2ecdedbcff1c7c4657f1c7a60b7fe'}]}"
      ]
     },
     "execution_count": 3,
     "metadata": {},
     "output_type": "execute_result"
    }
   ],
   "source": [
    "# Specify a data store\n",
    "data = DemoData(\n",
    "    identifier='OracleSource',\n",
    "    store=['SecretsFromTheOracle'],\n",
    ")\n",
    "\n",
    "# Specify an Interface for that data\n",
    "interface = Interface(\n",
    "    identifier='OracleInterface',\n",
    "    data=data,\n",
    ")\n",
    "\n",
    "oracle = Oracle(\n",
    "    identifier='DemoOracle', \n",
    "    consensus=Consensus(fn=return_true), \n",
    "    key=str(random.randint(10000,1000000)),\n",
    "    interface=interface,\n",
    "    data=data,\n",
    ")\n",
    "\n",
    "oracle.collect()"
   ]
  },
  {
   "cell_type": "markdown",
   "id": "f249b8c5",
   "metadata": {},
   "source": [
    "#### Registering an Oracle or Resource in general\n",
    "Composite objects that have implicit actions need to be registered with the graph.  This can be done with a simple check of attribute, making registration simpler in the sense that you can register all objects and actions used to define the DAO and extract actions as you go."
   ]
  },
  {
   "cell_type": "code",
   "execution_count": 4,
   "id": "100da9d7",
   "metadata": {},
   "outputs": [
    {
     "name": "stdout",
     "output_type": "stream",
     "text": [
      "identifier='DemoOracle' resources=[OracleInterface, OracleSource] function=Function(identifier='DemoOracle', kwargs={'interface': OracleInterface}, fn=<function build_read_from_interface.<locals>.read_from_interface at 0x7f9fec743790>) actor=OracleInterface\n",
      "True\n",
      "added ['OracleInterface', 'OracleSource', 'OracleInterface'], [('OracleInterface', 'OracleInterface', {'function': Function(identifier='DemoOracle', kwargs={'interface': OracleInterface}, fn=<function build_read_from_interface.<locals>.read_from_interface at 0x7f9fde7e33a0>)}), ('OracleInterface', 'OracleSource', {'function': Function(identifier='DemoOracle', kwargs={'interface': OracleInterface}, fn=<function build_read_from_interface.<locals>.read_from_interface at 0x7f9fde7e33a0>)})]\n"
     ]
    },
    {
     "data": {
      "image/png": "[encoded data removed]",
      "text/plain": [
       "<Figure size 432x288 with 1 Axes>"
      ]
     },
     "metadata": {},
     "output_type": "display_data"
    }
   ],
   "source": [
    "print(oracle.action)  # See the action details\n",
    "print(hasattr(oracle, 'action'))  # Example test of 'actor' to see if it has an action to register\n",
    "\n",
    "from graphs.graph import DGraph\n",
    "\n",
    "dgraph = DGraph()\n",
    "\n",
    "if hasattr(oracle, 'action'):\n",
    "    dgraph.register_action(oracle.action)\n",
    "\n",
    "dgraph.draw()"
   ]
  },
  {
   "cell_type": "markdown",
   "id": "e068a4f8",
   "metadata": {},
   "source": [
    "### Some Useful Oracles\n",
    "\n",
    "1. UserInputOracle\n",
    "\n",
    "    Data is an input field with await characteristics"
   ]
  },
  {
   "cell_type": "code",
   "execution_count": 6,
   "id": "2c57c3b5",
   "metadata": {},
   "outputs": [
    {
     "name": "stdout",
     "output_type": "stream",
     "text": [
      "Please Provide User Data: aedfgqawrhfacfadsd\n"
     ]
    },
    {
     "data": {
      "text/plain": [
       "{'data': 'aedfgqawrhfacfadsd',\n",
       " 'signatures': [{'UserInputOracle': 'bf96d50e501b6317a986d3223a02d843'}]}"
      ]
     },
     "execution_count": 6,
     "metadata": {},
     "output_type": "execute_result"
    }
   ],
   "source": [
    "from primitives.oracles import Oracle\n",
    "from primitives.resources import UserInput, Consensus\n",
    "from primitives.interfaces import Interface\n",
    "from utils.simple_functions import return_true\n",
    "\n",
    "import random \n",
    "\n",
    "\n",
    "user_input_data = UserInput(\n",
    "    identifier='UserInputData',\n",
    "    store=None,\n",
    "    message='Please Provide User Data: ',\n",
    ")\n",
    "\n",
    "user_input_interface = Interface(\n",
    "    identifier='UserInputInterface',\n",
    "    data=user_input_data,\n",
    ")\n",
    "\n",
    "user_input_oracle = Oracle(\n",
    "    identifier='UserInputOracle', \n",
    "    consensus=Consensus(fn=return_true), \n",
    "    key=str(random.randint(10000,1000000)),\n",
    "    interface=user_input_interface,\n",
    "    data=user_input_data,\n",
    "    cache_reset=2,\n",
    ")\n",
    "\n",
    "user_input_oracle.collect()"
   ]
  },
  {
   "cell_type": "markdown",
   "id": "c6b3e024",
   "metadata": {},
   "source": [
    "### Use an Oracle for actor consensus\n",
    "Sometimes, consensus rules will depend on interpretation (by human users or programmatic logic) of oracle data.  Here we demonstrate a user accepting data that the oracle has cached.\n",
    "\n",
    "Note that in this implementation, Oracle caches have a limited number of hits.  We'll allow one read per expected reviewer before the oracle fetches a new user input to test. Read privileges could also written into the oracle in the future."
   ]
  },
  {
   "cell_type": "code",
   "execution_count": 1,
   "id": "5548df69",
   "metadata": {},
   "outputs": [],
   "source": [
    "from primitives.oracles import Oracle\n",
    "from primitives.resources import UserInput, Consensus, Coalition, Actor, DemoData, Function\n",
    "from primitives.interfaces import Interface\n",
    "from primitives.actions import Action\n",
    "from utils.simple_functions import check_all_true, return_true\n",
    "\n",
    "from graphs.graph import DGraph\n",
    "\n",
    "dgraph = DGraph()\n",
    "\n",
    "import random\n",
    "\n",
    "# Mock an oracle with cached data\n",
    "class MockOracle():\n",
    "    def collect(self): return 'some data'\n",
    "source=MockOracle()\n",
    "\n",
    "def get_data_from_source(source=source):\n",
    "    return source.collect()\n",
    "\n",
    "\n",
    "# Define the inputs and interface required to get data from the user\n",
    "user_approval = UserInput(\n",
    "    identifier='UserApprovalData',\n",
    "    store=None,\n",
    "    message=f'Do You approve of the following: \\n{get_data_from_source()}\\n(Y/N): ',\n",
    ")\n",
    "\n",
    "user_approval_interface = Interface(\n",
    "    identifier='UserApprovalInterface',\n",
    "    data=user_approval,\n",
    ")\n",
    "\n",
    "\n",
    "# Define a consensus function\n",
    "def check_user_approval(interface, valid_approvals=['y', 'true']):\n",
    "    return interface.read().lower() in valid_approvals\n",
    "\n",
    "\n",
    "# Build Consensus\n",
    "user_acceptance_consensus = Consensus(\n",
    "    fn=Function(\n",
    "        identifier='UserApprovalFunction',\n",
    "        kwargs={'interface': user_approval_interface},\n",
    "        fn=check_user_approval\n",
    "    )\n",
    ")\n",
    "    "
   ]
  },
  {
   "cell_type": "code",
   "execution_count": 2,
   "id": "785e1777",
   "metadata": {},
   "outputs": [
    {
     "name": "stdout",
     "output_type": "stream",
     "text": [
      "Do You approve of the following: \n",
      "some data\n",
      "(Y/N): y\n"
     ]
    },
    {
     "data": {
      "text/plain": [
       "True"
      ]
     },
     "execution_count": 2,
     "metadata": {},
     "output_type": "execute_result"
    }
   ],
   "source": [
    "user_acceptance_consensus.resolve()"
   ]
  },
  {
   "cell_type": "markdown",
   "id": "6cc6dece",
   "metadata": {},
   "source": [
    "## Builing a Coalition Transaction\n",
    "Many use cases require multiple inputs to be coalesced into a transaction.  Here we'll define a coalition of oracles and actors and storing that transaction."
   ]
  },
  {
   "cell_type": "code",
   "execution_count": 2,
   "id": "038a1ab9",
   "metadata": {},
   "outputs": [
    {
     "name": "stdout",
     "output_type": "stream",
     "text": [
      "Please Provide User Data: Imagine this is engagement context.  We met at that place at that time. Remember?\n",
      "identifier='UserApprovalInterface' data=UserApprovalData fn=<function null_fn at 0x7faf207fc0d0> <class 'primitives.interfaces.Interface'>\n",
      "identifier='UserApprovalInterface' data=UserApprovalData fn=<function null_fn at 0x7faf207fc0d0> <class 'primitives.interfaces.Interface'>\n",
      "Do You approve of the following: \n",
      "{'data': 'Imagine this is engagement context.  We met at that place at that time. Remember?', 'signatures': [{'UserInputOracle': '5ad203103347c920a6cfa134e15e91d1'}]}\n",
      "(Y/N): y\n",
      "Do You approve of the following: \n",
      "{'data': 'Imagine this is engagement context.  We met at that place at that time. Remember?', 'signatures': [{'UserInputOracle': '5ad203103347c920a6cfa134e15e91d1'}]}\n",
      "(Y/N): y\n",
      "[{'data': 'Imagine this is engagement context.  We met at that place at that time. Remember?', 'signatures': [{'UserInputOracle': '5ad203103347c920a6cfa134e15e91d1'}, {'reviewer_a': '703541d8afa2e2cff48fbe25a278276b'}, {'reviewer_b': 'd920be9e82c01d52109060e3857dd2ae'}, {'UserInputOracle': '7f0f6f486683d15f5979d80b2a4057b1'}]}]\n"
     ]
    },
    {
     "data": {
      "image/png": "[encoded data removed]",
      "text/plain": [
       "<Figure size 432x288 with 1 Axes>"
      ]
     },
     "metadata": {},
     "output_type": "display_data"
    }
   ],
   "source": [
    "from primitives.oracles import Oracle\n",
    "from primitives.resources import UserInput, Consensus, Coalition, Actor, DemoData, Function\n",
    "from primitives.interfaces import Interface\n",
    "from primitives.actions import Action\n",
    "from utils.simple_functions import check_all_true, return_true\n",
    "\n",
    "from graphs.graph import DGraph\n",
    "\n",
    "dgraph = DGraph()\n",
    "\n",
    "import random\n",
    "\n",
    "# Collect some user data\n",
    "user_input_data = UserInput(\n",
    "    identifier='UserInputData',\n",
    "    store=None,\n",
    "    message='Please Provide User Data: ',\n",
    ")\n",
    "\n",
    "user_input_interface = Interface(\n",
    "    identifier='UserInputInterface',\n",
    "    data=user_input_data,\n",
    ")\n",
    "\n",
    "user_input_oracle = Oracle(\n",
    "    identifier='UserInputOracle', \n",
    "    consensus=Consensus(fn=return_true), \n",
    "    key=str(random.randint(10000,1000000)),\n",
    "    interface=user_input_interface,\n",
    "    data=user_input_data,\n",
    ")\n",
    "\n",
    "# Let's build consensus around the user input, enforcing that both actors sign they agree to the input.\n",
    "\n",
    "# Define the inputs and interface required to get data from the user\n",
    "user_approval = UserInput(\n",
    "    identifier='UserApprovalData',\n",
    "    store=None,\n",
    "    message=f'Do You approve of the following: \\n{user_input_oracle.collect()}\\n(Y/N): ',\n",
    ")\n",
    "\n",
    "user_approval_interface = Interface(\n",
    "    identifier='UserApprovalInterface',\n",
    "    data=user_approval,\n",
    ")\n",
    "\n",
    "\n",
    "# Define a consensus function\n",
    "def check_user_approval(interface, valid_approvals=['y', 'true']):\n",
    "    return interface.read().lower() in valid_approvals\n",
    "\n",
    "\n",
    "# Build Consensus\n",
    "user_acceptance_consensus = Consensus(\n",
    "    fn=Function(\n",
    "        identifier='UserApprovalFunction',\n",
    "        kwargs={'interface': user_approval_interface},\n",
    "        fn=check_user_approval\n",
    "    )\n",
    ")\n",
    "\n",
    "\n",
    "# A Couple Actors that need to certify the data\n",
    "actors = [\n",
    "    Actor(identifier='reviewer_a', consensus=user_acceptance_consensus, key=str(random.randint(10000,1000000))),\n",
    "    Actor(identifier='reviewer_b', consensus=user_acceptance_consensus, key=str(random.randint(10000,1000000))),\n",
    "    user_input_oracle,\n",
    "]\n",
    "\n",
    "\n",
    "# A coalition of actors and the oracle\n",
    "coalition = Coalition(\n",
    "    identifier='MutiEntityCoalition',\n",
    "    actors=actors,\n",
    "    consensus=Consensus(fn=check_all_true),\n",
    "    key='AHeterogeneousCoalition!',\n",
    ")\n",
    "\n",
    "# Specify a data store\n",
    "datastore = DemoData(\n",
    "    identifier='BigDataStore',\n",
    "    store=[],\n",
    ")\n",
    "\n",
    "# Specify an Interface for that data\n",
    "interface = Interface(\n",
    "    identifier='BigDataStoreInterface',\n",
    "    data=datastore,\n",
    ")\n",
    "\n",
    "\n",
    "# Let's define the function that will use these resources\n",
    "def create_transaction(coalition: Actor, input_oracle: UserInput, data_interface: Interface):\n",
    "    # get user input data first\n",
    "    data = input_oracle.collect()\n",
    "    # Have coalition sign the transaction\n",
    "    data = coalition.sign(data)\n",
    "    # Write the transaction to the interface\n",
    "    data_interface.write(data)\n",
    "    \n",
    "    \n",
    "# Wrap the function into a standard Function interface\n",
    "create_transaction_function = Function(\n",
    "    identifier='create_transaction',\n",
    "    kwargs={'coalition': coalition, 'input_oracle':user_input_oracle, 'data_interface':interface},\n",
    "    fn=create_transaction,\n",
    ")\n",
    "\n",
    "# Define the Action that the coalition will act on\n",
    "save_multi_sig = Action(\n",
    "    identifier='MultiSigOracleTransaction',\n",
    "    resources=[coalition, interface],\n",
    "    actor=coalition,\n",
    "    function=create_transaction_function,\n",
    ")\n",
    "\n",
    "# Register the actions with the graph\n",
    "dgraph.register_action(save_multi_sig)\n",
    "dgraph.register_actor(actors[0])\n",
    "dgraph.register_actor(actors[1])\n",
    "dgraph.register_oracle(user_input_oracle)\n",
    "dgraph.register_interface(interface)\n",
    "dgraph.register_interface(user_approval_interface)\n",
    "dgraph.register_coalition(coalition)\n",
    "\n",
    "\n",
    "save_multi_sig.execute()\n",
    "print(interface.read())\n",
    "dgraph.draw(with_labels=True)"
   ]
  },
  {
   "cell_type": "code",
   "execution_count": null,
   "id": "3ef48069",
   "metadata": {},
   "outputs": [],
   "source": []
  },
  {
   "cell_type": "code",
   "execution_count": 4,
   "id": "5ce3b3f3",
   "metadata": {},
   "outputs": [
    {
     "data": {
      "text/plain": [
       "primitives.resources.Consensus"
      ]
     },
     "execution_count": 4,
     "metadata": {},
     "output_type": "execute_result"
    }
   ],
   "source": [
    "type(user_acceptance_consensus)"
   ]
  },
  {
   "cell_type": "code",
   "execution_count": 7,
   "id": "2deccfeb",
   "metadata": {},
   "outputs": [
    {
     "data": {
      "text/plain": [
       "True"
      ]
     },
     "execution_count": 7,
     "metadata": {},
     "output_type": "execute_result"
    }
   ],
   "source": [
    "hasattr(user_acceptance_consensus.fn, 'identifier')"
   ]
  },
  {
   "cell_type": "code",
   "execution_count": null,
   "id": "c260d1a1",
   "metadata": {},
   "outputs": [],
   "source": []
  },
  {
   "cell_type": "code",
   "execution_count": null,
   "id": "47bfb2f8",
   "metadata": {},
   "outputs": [],
   "source": []
  },
  {
   "cell_type": "code",
   "execution_count": null,
   "id": "91578740",
   "metadata": {},
   "outputs": [],
   "source": []
  },
  {
   "cell_type": "code",
   "execution_count": null,
   "id": "ddd354c4",
   "metadata": {},
   "outputs": [],
   "source": []
  },
  {
   "cell_type": "code",
   "execution_count": null,
   "id": "b803e194",
   "metadata": {},
   "outputs": [],
   "source": []
  },
  {
   "cell_type": "code",
   "execution_count": null,
   "id": "0ef93d7d",
   "metadata": {},
   "outputs": [],
   "source": []
  },
  {
   "cell_type": "code",
   "execution_count": null,
   "id": "e906ae10",
   "metadata": {},
   "outputs": [],
   "source": []
  },
  {
   "cell_type": "markdown",
   "id": "0620e624",
   "metadata": {},
   "source": [
    "## Adding Directionality - TODO\n",
    "By focusing on directionality, it becomes easier to find the 'starting' point for any step or series of computations.\n",
    "\n"
   ]
  },
  {
   "cell_type": "code",
   "execution_count": null,
   "id": "525fefe5",
   "metadata": {},
   "outputs": [],
   "source": []
  }
 ],
 "metadata": {
  "kernelspec": {
   "display_name": "Python 3",
   "language": "python",
   "name": "python3"
  },
  "language_info": {
   "codemirror_mode": {
    "name": "ipython",
    "version": 3
   },
   "file_extension": ".py",
   "mimetype": "text/x-python",
   "name": "python",
   "nbconvert_exporter": "python",
   "pygments_lexer": "ipython3",
   "version": "3.8.0"
  }
 },
 "nbformat": 4,
 "nbformat_minor": 5
}
